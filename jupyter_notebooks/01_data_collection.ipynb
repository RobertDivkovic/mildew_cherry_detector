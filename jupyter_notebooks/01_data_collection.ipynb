{
 "cells": [
  {
   "cell_type": "markdown",
   "id": "d531153e",
   "metadata": {},
   "source": [
    "## 01 - Data Collection"
   ]
  },
  {
   "cell_type": "markdown",
   "id": "06483619",
   "metadata": {},
   "source": [
    "### Objective:"
   ]
  },
  {
   "cell_type": "markdown",
   "id": "54cac136",
   "metadata": {},
   "source": [
    "- Install and configure Kaggle API\n",
    "- Download and unzip the \"Cherry Leaves\" dataset"
   ]
  },
  {
   "cell_type": "code",
   "execution_count": 20,
   "id": "43ab7d38",
   "metadata": {},
   "outputs": [
    {
     "name": "stdout",
     "output_type": "stream",
     "text": [
      "Requirement already satisfied: numpy==1.26.1 in c:\\users\\robert\\appdata\\local\\programs\\python\\python312\\lib\\site-packages (from -r ../requirements.txt (line 1)) (1.26.1)\n",
      "Requirement already satisfied: pandas==2.1.1 in c:\\users\\robert\\appdata\\local\\programs\\python\\python312\\lib\\site-packages (from -r ../requirements.txt (line 2)) (2.1.1)\n",
      "Requirement already satisfied: matplotlib==3.8.0 in c:\\users\\robert\\appdata\\local\\programs\\python\\python312\\lib\\site-packages (from -r ../requirements.txt (line 3)) (3.8.0)\n",
      "Requirement already satisfied: seaborn==0.13.2 in c:\\users\\robert\\appdata\\local\\programs\\python\\python312\\lib\\site-packages (from -r ../requirements.txt (line 4)) (0.13.2)\n",
      "Requirement already satisfied: plotly==5.17.0 in c:\\users\\robert\\appdata\\local\\programs\\python\\python312\\lib\\site-packages (from -r ../requirements.txt (line 5)) (5.17.0)\n",
      "Requirement already satisfied: Pillow==10.0.1 in c:\\users\\robert\\appdata\\local\\programs\\python\\python312\\lib\\site-packages (from -r ../requirements.txt (line 6)) (10.0.1)\n",
      "Requirement already satisfied: streamlit==1.40.2 in c:\\users\\robert\\appdata\\local\\programs\\python\\python312\\lib\\site-packages (from -r ../requirements.txt (line 7)) (1.40.2)\n",
      "Requirement already satisfied: joblib==1.4.2 in c:\\users\\robert\\appdata\\local\\programs\\python\\python312\\lib\\site-packages (from -r ../requirements.txt (line 8)) (1.4.2)\n",
      "Requirement already satisfied: scikit-learn==1.3.1 in c:\\users\\robert\\appdata\\local\\programs\\python\\python312\\lib\\site-packages (from -r ../requirements.txt (line 9)) (1.3.1)\n",
      "Requirement already satisfied: tensorflow-cpu==2.16.1 in c:\\users\\robert\\appdata\\local\\programs\\python\\python312\\lib\\site-packages (from -r ../requirements.txt (line 10)) (2.16.1)\n",
      "Requirement already satisfied: keras>=3.0.0 in c:\\users\\robert\\appdata\\local\\programs\\python\\python312\\lib\\site-packages (from -r ../requirements.txt (line 11)) (3.9.2)\n",
      "Requirement already satisfied: python-dateutil>=2.8.2 in c:\\users\\robert\\appdata\\roaming\\python\\python312\\site-packages (from pandas==2.1.1->-r ../requirements.txt (line 2)) (2.9.0.post0)\n",
      "Requirement already satisfied: pytz>=2020.1 in c:\\users\\robert\\appdata\\local\\programs\\python\\python312\\lib\\site-packages (from pandas==2.1.1->-r ../requirements.txt (line 2)) (2025.2)\n",
      "Requirement already satisfied: tzdata>=2022.1 in c:\\users\\robert\\appdata\\local\\programs\\python\\python312\\lib\\site-packages (from pandas==2.1.1->-r ../requirements.txt (line 2)) (2025.2)\n",
      "Requirement already satisfied: contourpy>=1.0.1 in c:\\users\\robert\\appdata\\local\\programs\\python\\python312\\lib\\site-packages (from matplotlib==3.8.0->-r ../requirements.txt (line 3)) (1.3.1)\n",
      "Requirement already satisfied: cycler>=0.10 in c:\\users\\robert\\appdata\\local\\programs\\python\\python312\\lib\\site-packages (from matplotlib==3.8.0->-r ../requirements.txt (line 3)) (0.12.1)\n",
      "Requirement already satisfied: fonttools>=4.22.0 in c:\\users\\robert\\appdata\\local\\programs\\python\\python312\\lib\\site-packages (from matplotlib==3.8.0->-r ../requirements.txt (line 3)) (4.57.0)\n",
      "Requirement already satisfied: kiwisolver>=1.0.1 in c:\\users\\robert\\appdata\\local\\programs\\python\\python312\\lib\\site-packages (from matplotlib==3.8.0->-r ../requirements.txt (line 3)) (1.4.8)\n",
      "Requirement already satisfied: packaging>=20.0 in c:\\users\\robert\\appdata\\roaming\\python\\python312\\site-packages (from matplotlib==3.8.0->-r ../requirements.txt (line 3)) (24.2)\n",
      "Requirement already satisfied: pyparsing>=2.3.1 in c:\\users\\robert\\appdata\\local\\programs\\python\\python312\\lib\\site-packages (from matplotlib==3.8.0->-r ../requirements.txt (line 3)) (3.2.3)\n",
      "Requirement already satisfied: tenacity>=6.2.0 in c:\\users\\robert\\appdata\\local\\programs\\python\\python312\\lib\\site-packages (from plotly==5.17.0->-r ../requirements.txt (line 5)) (9.1.2)\n",
      "Requirement already satisfied: altair<6,>=4.0 in c:\\users\\robert\\appdata\\local\\programs\\python\\python312\\lib\\site-packages (from streamlit==1.40.2->-r ../requirements.txt (line 7)) (5.5.0)\n",
      "Requirement already satisfied: blinker<2,>=1.0.0 in c:\\users\\robert\\appdata\\local\\programs\\python\\python312\\lib\\site-packages (from streamlit==1.40.2->-r ../requirements.txt (line 7)) (1.9.0)\n",
      "Requirement already satisfied: cachetools<6,>=4.0 in c:\\users\\robert\\appdata\\local\\programs\\python\\python312\\lib\\site-packages (from streamlit==1.40.2->-r ../requirements.txt (line 7)) (5.5.2)\n",
      "Requirement already satisfied: click<9,>=7.0 in c:\\users\\robert\\appdata\\local\\programs\\python\\python312\\lib\\site-packages (from streamlit==1.40.2->-r ../requirements.txt (line 7)) (8.1.8)\n",
      "Requirement already satisfied: protobuf<6,>=3.20 in c:\\users\\robert\\appdata\\local\\programs\\python\\python312\\lib\\site-packages (from streamlit==1.40.2->-r ../requirements.txt (line 7)) (4.25.6)\n",
      "Requirement already satisfied: pyarrow>=7.0 in c:\\users\\robert\\appdata\\local\\programs\\python\\python312\\lib\\site-packages (from streamlit==1.40.2->-r ../requirements.txt (line 7)) (19.0.1)\n",
      "Requirement already satisfied: requests<3,>=2.27 in c:\\users\\robert\\appdata\\local\\programs\\python\\python312\\lib\\site-packages (from streamlit==1.40.2->-r ../requirements.txt (line 7)) (2.32.3)\n",
      "Requirement already satisfied: rich<14,>=10.14.0 in c:\\users\\robert\\appdata\\local\\programs\\python\\python312\\lib\\site-packages (from streamlit==1.40.2->-r ../requirements.txt (line 7)) (13.9.4)\n",
      "Requirement already satisfied: toml<2,>=0.10.1 in c:\\users\\robert\\appdata\\local\\programs\\python\\python312\\lib\\site-packages (from streamlit==1.40.2->-r ../requirements.txt (line 7)) (0.10.2)\n",
      "Requirement already satisfied: typing-extensions<5,>=4.3.0 in c:\\users\\robert\\appdata\\local\\programs\\python\\python312\\lib\\site-packages (from streamlit==1.40.2->-r ../requirements.txt (line 7)) (4.13.1)\n",
      "Requirement already satisfied: watchdog<7,>=2.1.5 in c:\\users\\robert\\appdata\\local\\programs\\python\\python312\\lib\\site-packages (from streamlit==1.40.2->-r ../requirements.txt (line 7)) (6.0.0)\n",
      "Requirement already satisfied: gitpython!=3.1.19,<4,>=3.0.7 in c:\\users\\robert\\appdata\\local\\programs\\python\\python312\\lib\\site-packages (from streamlit==1.40.2->-r ../requirements.txt (line 7)) (3.1.44)\n",
      "Requirement already satisfied: pydeck<1,>=0.8.0b4 in c:\\users\\robert\\appdata\\local\\programs\\python\\python312\\lib\\site-packages (from streamlit==1.40.2->-r ../requirements.txt (line 7)) (0.9.1)\n",
      "Requirement already satisfied: tornado<7,>=6.0.3 in c:\\users\\robert\\appdata\\roaming\\python\\python312\\site-packages (from streamlit==1.40.2->-r ../requirements.txt (line 7)) (6.4.2)\n",
      "Requirement already satisfied: scipy>=1.5.0 in c:\\users\\robert\\appdata\\local\\programs\\python\\python312\\lib\\site-packages (from scikit-learn==1.3.1->-r ../requirements.txt (line 9)) (1.15.2)\n",
      "Requirement already satisfied: threadpoolctl>=2.0.0 in c:\\users\\robert\\appdata\\local\\programs\\python\\python312\\lib\\site-packages (from scikit-learn==1.3.1->-r ../requirements.txt (line 9)) (3.6.0)\n",
      "Requirement already satisfied: tensorflow-intel==2.16.1 in c:\\users\\robert\\appdata\\local\\programs\\python\\python312\\lib\\site-packages (from tensorflow-cpu==2.16.1->-r ../requirements.txt (line 10)) (2.16.1)\n",
      "Requirement already satisfied: absl-py>=1.0.0 in c:\\users\\robert\\appdata\\local\\programs\\python\\python312\\lib\\site-packages (from tensorflow-intel==2.16.1->tensorflow-cpu==2.16.1->-r ../requirements.txt (line 10)) (2.2.2)\n",
      "Requirement already satisfied: astunparse>=1.6.0 in c:\\users\\robert\\appdata\\local\\programs\\python\\python312\\lib\\site-packages (from tensorflow-intel==2.16.1->tensorflow-cpu==2.16.1->-r ../requirements.txt (line 10)) (1.6.3)\n",
      "Requirement already satisfied: flatbuffers>=23.5.26 in c:\\users\\robert\\appdata\\local\\programs\\python\\python312\\lib\\site-packages (from tensorflow-intel==2.16.1->tensorflow-cpu==2.16.1->-r ../requirements.txt (line 10)) (25.2.10)\n",
      "Requirement already satisfied: gast!=0.5.0,!=0.5.1,!=0.5.2,>=0.2.1 in c:\\users\\robert\\appdata\\local\\programs\\python\\python312\\lib\\site-packages (from tensorflow-intel==2.16.1->tensorflow-cpu==2.16.1->-r ../requirements.txt (line 10)) (0.6.0)\n",
      "Requirement already satisfied: google-pasta>=0.1.1 in c:\\users\\robert\\appdata\\local\\programs\\python\\python312\\lib\\site-packages (from tensorflow-intel==2.16.1->tensorflow-cpu==2.16.1->-r ../requirements.txt (line 10)) (0.2.0)\n",
      "Requirement already satisfied: h5py>=3.10.0 in c:\\users\\robert\\appdata\\local\\programs\\python\\python312\\lib\\site-packages (from tensorflow-intel==2.16.1->tensorflow-cpu==2.16.1->-r ../requirements.txt (line 10)) (3.13.0)\n",
      "Requirement already satisfied: libclang>=13.0.0 in c:\\users\\robert\\appdata\\local\\programs\\python\\python312\\lib\\site-packages (from tensorflow-intel==2.16.1->tensorflow-cpu==2.16.1->-r ../requirements.txt (line 10)) (18.1.1)\n",
      "Requirement already satisfied: ml-dtypes~=0.3.1 in c:\\users\\robert\\appdata\\local\\programs\\python\\python312\\lib\\site-packages (from tensorflow-intel==2.16.1->tensorflow-cpu==2.16.1->-r ../requirements.txt (line 10)) (0.3.2)\n",
      "Requirement already satisfied: opt-einsum>=2.3.2 in c:\\users\\robert\\appdata\\local\\programs\\python\\python312\\lib\\site-packages (from tensorflow-intel==2.16.1->tensorflow-cpu==2.16.1->-r ../requirements.txt (line 10)) (3.4.0)\n",
      "Requirement already satisfied: setuptools in c:\\users\\robert\\appdata\\local\\programs\\python\\python312\\lib\\site-packages (from tensorflow-intel==2.16.1->tensorflow-cpu==2.16.1->-r ../requirements.txt (line 10)) (78.1.0)\n",
      "Requirement already satisfied: six>=1.12.0 in c:\\users\\robert\\appdata\\roaming\\python\\python312\\site-packages (from tensorflow-intel==2.16.1->tensorflow-cpu==2.16.1->-r ../requirements.txt (line 10)) (1.17.0)\n",
      "Requirement already satisfied: termcolor>=1.1.0 in c:\\users\\robert\\appdata\\local\\programs\\python\\python312\\lib\\site-packages (from tensorflow-intel==2.16.1->tensorflow-cpu==2.16.1->-r ../requirements.txt (line 10)) (3.0.1)\n",
      "Requirement already satisfied: wrapt>=1.11.0 in c:\\users\\robert\\appdata\\local\\programs\\python\\python312\\lib\\site-packages (from tensorflow-intel==2.16.1->tensorflow-cpu==2.16.1->-r ../requirements.txt (line 10)) (1.17.2)\n",
      "Requirement already satisfied: grpcio<2.0,>=1.24.3 in c:\\users\\robert\\appdata\\local\\programs\\python\\python312\\lib\\site-packages (from tensorflow-intel==2.16.1->tensorflow-cpu==2.16.1->-r ../requirements.txt (line 10)) (1.71.0)\n",
      "Requirement already satisfied: tensorboard<2.17,>=2.16 in c:\\users\\robert\\appdata\\local\\programs\\python\\python312\\lib\\site-packages (from tensorflow-intel==2.16.1->tensorflow-cpu==2.16.1->-r ../requirements.txt (line 10)) (2.16.2)\n",
      "Requirement already satisfied: namex in c:\\users\\robert\\appdata\\local\\programs\\python\\python312\\lib\\site-packages (from keras>=3.0.0->-r ../requirements.txt (line 11)) (0.0.8)\n",
      "Requirement already satisfied: optree in c:\\users\\robert\\appdata\\local\\programs\\python\\python312\\lib\\site-packages (from keras>=3.0.0->-r ../requirements.txt (line 11)) (0.15.0)\n",
      "Requirement already satisfied: jinja2 in c:\\users\\robert\\appdata\\local\\programs\\python\\python312\\lib\\site-packages (from altair<6,>=4.0->streamlit==1.40.2->-r ../requirements.txt (line 7)) (3.1.6)\n",
      "Requirement already satisfied: jsonschema>=3.0 in c:\\users\\robert\\appdata\\local\\programs\\python\\python312\\lib\\site-packages (from altair<6,>=4.0->streamlit==1.40.2->-r ../requirements.txt (line 7)) (4.23.0)\n",
      "Requirement already satisfied: narwhals>=1.14.2 in c:\\users\\robert\\appdata\\local\\programs\\python\\python312\\lib\\site-packages (from altair<6,>=4.0->streamlit==1.40.2->-r ../requirements.txt (line 7)) (1.34.1)\n",
      "Requirement already satisfied: colorama in c:\\users\\robert\\appdata\\roaming\\python\\python312\\site-packages (from click<9,>=7.0->streamlit==1.40.2->-r ../requirements.txt (line 7)) (0.4.6)\n",
      "Requirement already satisfied: gitdb<5,>=4.0.1 in c:\\users\\robert\\appdata\\local\\programs\\python\\python312\\lib\\site-packages (from gitpython!=3.1.19,<4,>=3.0.7->streamlit==1.40.2->-r ../requirements.txt (line 7)) (4.0.12)\n",
      "Requirement already satisfied: charset-normalizer<4,>=2 in c:\\users\\robert\\appdata\\local\\programs\\python\\python312\\lib\\site-packages (from requests<3,>=2.27->streamlit==1.40.2->-r ../requirements.txt (line 7)) (3.4.1)\n",
      "Requirement already satisfied: idna<4,>=2.5 in c:\\users\\robert\\appdata\\local\\programs\\python\\python312\\lib\\site-packages (from requests<3,>=2.27->streamlit==1.40.2->-r ../requirements.txt (line 7)) (3.10)\n",
      "Requirement already satisfied: urllib3<3,>=1.21.1 in c:\\users\\robert\\appdata\\local\\programs\\python\\python312\\lib\\site-packages (from requests<3,>=2.27->streamlit==1.40.2->-r ../requirements.txt (line 7)) (2.3.0)\n",
      "Requirement already satisfied: certifi>=2017.4.17 in c:\\users\\robert\\appdata\\local\\programs\\python\\python312\\lib\\site-packages (from requests<3,>=2.27->streamlit==1.40.2->-r ../requirements.txt (line 7)) (2025.1.31)\n",
      "Requirement already satisfied: markdown-it-py>=2.2.0 in c:\\users\\robert\\appdata\\local\\programs\\python\\python312\\lib\\site-packages (from rich<14,>=10.14.0->streamlit==1.40.2->-r ../requirements.txt (line 7)) (3.0.0)\n",
      "Requirement already satisfied: pygments<3.0.0,>=2.13.0 in c:\\users\\robert\\appdata\\roaming\\python\\python312\\site-packages (from rich<14,>=10.14.0->streamlit==1.40.2->-r ../requirements.txt (line 7)) (2.19.1)\n",
      "Requirement already satisfied: wheel<1.0,>=0.23.0 in c:\\users\\robert\\appdata\\local\\programs\\python\\python312\\lib\\site-packages (from astunparse>=1.6.0->tensorflow-intel==2.16.1->tensorflow-cpu==2.16.1->-r ../requirements.txt (line 10)) (0.45.1)\n",
      "Requirement already satisfied: smmap<6,>=3.0.1 in c:\\users\\robert\\appdata\\local\\programs\\python\\python312\\lib\\site-packages (from gitdb<5,>=4.0.1->gitpython!=3.1.19,<4,>=3.0.7->streamlit==1.40.2->-r ../requirements.txt (line 7)) (5.0.2)\n",
      "Requirement already satisfied: MarkupSafe>=2.0 in c:\\users\\robert\\appdata\\local\\programs\\python\\python312\\lib\\site-packages (from jinja2->altair<6,>=4.0->streamlit==1.40.2->-r ../requirements.txt (line 7)) (3.0.2)\n",
      "Requirement already satisfied: attrs>=22.2.0 in c:\\users\\robert\\appdata\\local\\programs\\python\\python312\\lib\\site-packages (from jsonschema>=3.0->altair<6,>=4.0->streamlit==1.40.2->-r ../requirements.txt (line 7)) (25.3.0)\n",
      "Requirement already satisfied: jsonschema-specifications>=2023.03.6 in c:\\users\\robert\\appdata\\local\\programs\\python\\python312\\lib\\site-packages (from jsonschema>=3.0->altair<6,>=4.0->streamlit==1.40.2->-r ../requirements.txt (line 7)) (2024.10.1)\n",
      "Requirement already satisfied: referencing>=0.28.4 in c:\\users\\robert\\appdata\\local\\programs\\python\\python312\\lib\\site-packages (from jsonschema>=3.0->altair<6,>=4.0->streamlit==1.40.2->-r ../requirements.txt (line 7)) (0.36.2)\n",
      "Requirement already satisfied: rpds-py>=0.7.1 in c:\\users\\robert\\appdata\\local\\programs\\python\\python312\\lib\\site-packages (from jsonschema>=3.0->altair<6,>=4.0->streamlit==1.40.2->-r ../requirements.txt (line 7)) (0.24.0)\n",
      "Requirement already satisfied: mdurl~=0.1 in c:\\users\\robert\\appdata\\local\\programs\\python\\python312\\lib\\site-packages (from markdown-it-py>=2.2.0->rich<14,>=10.14.0->streamlit==1.40.2->-r ../requirements.txt (line 7)) (0.1.2)\n",
      "Requirement already satisfied: markdown>=2.6.8 in c:\\users\\robert\\appdata\\local\\programs\\python\\python312\\lib\\site-packages (from tensorboard<2.17,>=2.16->tensorflow-intel==2.16.1->tensorflow-cpu==2.16.1->-r ../requirements.txt (line 10)) (3.7)\n",
      "Requirement already satisfied: tensorboard-data-server<0.8.0,>=0.7.0 in c:\\users\\robert\\appdata\\local\\programs\\python\\python312\\lib\\site-packages (from tensorboard<2.17,>=2.16->tensorflow-intel==2.16.1->tensorflow-cpu==2.16.1->-r ../requirements.txt (line 10)) (0.7.2)\n",
      "Requirement already satisfied: werkzeug>=1.0.1 in c:\\users\\robert\\appdata\\local\\programs\\python\\python312\\lib\\site-packages (from tensorboard<2.17,>=2.16->tensorflow-intel==2.16.1->tensorflow-cpu==2.16.1->-r ../requirements.txt (line 10)) (3.1.3)\n",
      "Note: you may need to restart the kernel to use updated packages.\n"
     ]
    },
    {
     "name": "stderr",
     "output_type": "stream",
     "text": [
      "\n",
      "[notice] A new release of pip is available: 24.3.1 -> 25.0.1\n",
      "[notice] To update, run: python.exe -m pip install --upgrade pip\n"
     ]
    }
   ],
   "source": [
    "%pip install -r ../requirements.txt"
   ]
  },
  {
   "cell_type": "markdown",
   "id": "0ee852b6",
   "metadata": {},
   "source": [
    "### Step 1: Install Kaggle and Set Up Environment"
   ]
  },
  {
   "cell_type": "code",
   "execution_count": 21,
   "id": "adfbd55e",
   "metadata": {},
   "outputs": [
    {
     "name": "stdout",
     "output_type": "stream",
     "text": [
      "Requirement already satisfied: kaggle in c:\\users\\robert\\appdata\\local\\programs\\python\\python312\\lib\\site-packages (1.7.4.2)\n",
      "Requirement already satisfied: bleach in c:\\users\\robert\\appdata\\local\\programs\\python\\python312\\lib\\site-packages (from kaggle) (6.2.0)\n",
      "Requirement already satisfied: certifi>=14.05.14 in c:\\users\\robert\\appdata\\local\\programs\\python\\python312\\lib\\site-packages (from kaggle) (2025.1.31)\n",
      "Requirement already satisfied: charset-normalizer in c:\\users\\robert\\appdata\\local\\programs\\python\\python312\\lib\\site-packages (from kaggle) (3.4.1)\n",
      "Requirement already satisfied: idna in c:\\users\\robert\\appdata\\local\\programs\\python\\python312\\lib\\site-packages (from kaggle) (3.10)\n",
      "Requirement already satisfied: protobuf in c:\\users\\robert\\appdata\\local\\programs\\python\\python312\\lib\\site-packages (from kaggle) (4.25.6)\n",
      "Requirement already satisfied: python-dateutil>=2.5.3 in c:\\users\\robert\\appdata\\roaming\\python\\python312\\site-packages (from kaggle) (2.9.0.post0)\n",
      "Requirement already satisfied: python-slugify in c:\\users\\robert\\appdata\\local\\programs\\python\\python312\\lib\\site-packages (from kaggle) (8.0.4)\n",
      "Requirement already satisfied: requests in c:\\users\\robert\\appdata\\local\\programs\\python\\python312\\lib\\site-packages (from kaggle) (2.32.3)\n",
      "Requirement already satisfied: setuptools>=21.0.0 in c:\\users\\robert\\appdata\\local\\programs\\python\\python312\\lib\\site-packages (from kaggle) (78.1.0)\n",
      "Requirement already satisfied: six>=1.10 in c:\\users\\robert\\appdata\\roaming\\python\\python312\\site-packages (from kaggle) (1.17.0)\n",
      "Requirement already satisfied: text-unidecode in c:\\users\\robert\\appdata\\local\\programs\\python\\python312\\lib\\site-packages (from kaggle) (1.3)\n",
      "Requirement already satisfied: tqdm in c:\\users\\robert\\appdata\\local\\programs\\python\\python312\\lib\\site-packages (from kaggle) (4.67.1)\n",
      "Requirement already satisfied: urllib3>=1.15.1 in c:\\users\\robert\\appdata\\local\\programs\\python\\python312\\lib\\site-packages (from kaggle) (2.3.0)\n",
      "Requirement already satisfied: webencodings in c:\\users\\robert\\appdata\\local\\programs\\python\\python312\\lib\\site-packages (from kaggle) (0.5.1)\n",
      "Requirement already satisfied: colorama in c:\\users\\robert\\appdata\\roaming\\python\\python312\\site-packages (from tqdm->kaggle) (0.4.6)\n",
      "Note: you may need to restart the kernel to use updated packages.\n"
     ]
    },
    {
     "name": "stderr",
     "output_type": "stream",
     "text": [
      "\n",
      "[notice] A new release of pip is available: 24.3.1 -> 25.0.1\n",
      "[notice] To update, run: python.exe -m pip install --upgrade pip\n"
     ]
    }
   ],
   "source": [
    "%pip install kaggle"
   ]
  },
  {
   "cell_type": "markdown",
   "id": "c7180bc4",
   "metadata": {},
   "source": [
    "### Step 2: Set Kaggle config directory and Set File Permissions for kaggle.json"
   ]
  },
  {
   "cell_type": "code",
   "execution_count": 22,
   "id": "4e5ff9d6",
   "metadata": {},
   "outputs": [
    {
     "name": "stdout",
     "output_type": "stream",
     "text": [
      "You set a new current directory\n"
     ]
    },
    {
     "data": {
      "text/plain": [
       "'C:\\\\Users\\\\Robert\\\\mildew_cherry_detector'"
      ]
     },
     "execution_count": 22,
     "metadata": {},
     "output_type": "execute_result"
    }
   ],
   "source": [
    "import os\n",
    "import zipfile\n",
    "import shutil\n",
    "import random\n",
    "from pathlib import Path\n",
    "\n",
    "# Set working directory manually to the project root\n",
    "os.chdir(\"C:/Users/Robert/mildew_cherry_detector\")\n",
    "print(\"You set a new current directory\")\n",
    "\n",
    "current_dir = os.getcwd()\n",
    "current_dir\n"
   ]
  },
  {
   "cell_type": "code",
   "execution_count": 24,
   "id": "c93253a8",
   "metadata": {},
   "outputs": [
    {
     "name": "stderr",
     "output_type": "stream",
     "text": [
      "'chmod' is not recognized as an internal or external command,\n",
      "operable program or batch file.\n"
     ]
    }
   ],
   "source": [
    "os.environ['KAGGLE_CONFIG_DIR'] = os.getcwd()\n",
    "! chmod 600 kaggle.json  # on Windows, this will be ignored"
   ]
  },
  {
   "cell_type": "markdown",
   "id": "75d3dc00",
   "metadata": {},
   "source": [
    "### Step 3: Download Dataset from Kaggle"
   ]
  },
  {
   "cell_type": "code",
   "execution_count": 25,
   "id": "d2e4a50b",
   "metadata": {},
   "outputs": [
    {
     "name": "stdout",
     "output_type": "stream",
     "text": [
      "Dataset URL: https://www.kaggle.com/datasets/codeinstitute/cherry-leaves\n",
      "License(s): unknown\n"
     ]
    }
   ],
   "source": [
    "KaggleDatasetPath = \"codeinstitute/cherry-leaves\"\n",
    "DestinationFolder = \"inputs/cherry_leaves_dataset\"\n",
    "! kaggle datasets download -d {KaggleDatasetPath} -p {DestinationFolder}"
   ]
  },
  {
   "cell_type": "markdown",
   "id": "59772f01",
   "metadata": {},
   "source": [
    "### Step 4: Unzip Dataset"
   ]
  },
  {
   "cell_type": "code",
   "execution_count": 26,
   "id": "6a7cfe05",
   "metadata": {},
   "outputs": [],
   "source": [
    "with zipfile.ZipFile(DestinationFolder + '/cherry-leaves.zip', 'r') as zip_ref:\n",
    "    zip_ref.extractall(DestinationFolder)\n",
    "\n",
    "os.remove(DestinationFolder + '/cherry-leaves.zip')"
   ]
  },
  {
   "cell_type": "markdown",
   "id": "3a0e8eee",
   "metadata": {},
   "source": [
    "## Data Preparation"
   ]
  },
  {
   "cell_type": "markdown",
   "id": "67088ff5",
   "metadata": {},
   "source": [
    "### Data cleaning\n",
    "### Check and remove non image files"
   ]
  },
  {
   "cell_type": "code",
   "execution_count": 27,
   "id": "a846d19d",
   "metadata": {},
   "outputs": [
    {
     "name": "stdout",
     "output_type": "stream",
     "text": [
      "Data cleaning complete.\n",
      "Removed from healthy: []\n",
      "Removed from mildew: []\n"
     ]
    }
   ],
   "source": [
    "def remove_non_images(directory):\n",
    "    removed_files = []\n",
    "    valid_ext = [\".jpg\", \".jpeg\", \".png\"]\n",
    "    for filename in os.listdir(directory):\n",
    "        ext = os.path.splitext(filename)[1].lower()\n",
    "        if ext not in valid_ext:\n",
    "            file_path = os.path.join(directory, filename)\n",
    "            os.remove(file_path)\n",
    "            removed_files.append(filename)\n",
    "    return removed_files\n",
    "\n",
    "healthy_dir = \"C:/Users/Robert/mildew_cherry_detector/inputs/cherry_leaves_dataset/cherry-leaves/healthy\"\n",
    "mildew_dir = \"C:/Users/Robert/mildew_cherry_detector/inputs/cherry_leaves_dataset/cherry-leaves/powdery_mildew\"\n",
    "\n",
    "removed_healthy = remove_non_images(healthy_dir)\n",
    "removed_mildew = remove_non_images(mildew_dir)\n",
    "\n",
    "print(\"Data cleaning complete.\")\n",
    "print(f\"Removed from healthy: {removed_healthy}\")\n",
    "print(f\"Removed from mildew: {removed_mildew}\")"
   ]
  },
  {
   "cell_type": "markdown",
   "id": "a3cfce5a",
   "metadata": {},
   "source": [
    "### Split train validation test set"
   ]
  },
  {
   "cell_type": "code",
   "execution_count": 28,
   "id": "d169cb29",
   "metadata": {},
   "outputs": [
    {
     "name": "stdout",
     "output_type": "stream",
     "text": [
      "healthy: 2104 images → 1472 train, 315 val, 317 test\n",
      "powdery_mildew: 2104 images → 1472 train, 315 val, 317 test\n"
     ]
    }
   ],
   "source": [
    "healthy_src = Path(\"C:/Users/Robert/mildew_cherry_detector/inputs/cherry_leaves_dataset/cherry-leaves/healthy\")\n",
    "mildew_src = Path(\"C:/Users/Robert/mildew_cherry_detector/inputs/cherry_leaves_dataset/cherry-leaves/powdery_mildew\")\n",
    "base_output = Path(\"C:/Users/Robert/mildew_cherry_detector/inputs/cherry_leaves_split\")\n",
    "classes = [\"healthy\", \"powdery_mildew\"]\n",
    "\n",
    "train_ratio = 0.7\n",
    "val_ratio = 0.15\n",
    "test_ratio = 0.15\n",
    "\n",
    "def split_and_copy(class_name, src_dir):\n",
    "    files = [f for f in os.listdir(src_dir) if f.lower().endswith((\".jpg\", \".jpeg\", \".png\"))]\n",
    "    if not files:\n",
    "        print(f\"No images found in {src_dir}. Skipping {class_name}.\")\n",
    "        return\n",
    "\n",
    "    random.shuffle(files)\n",
    "    n_total = len(files)\n",
    "    n_train = int(n_total * train_ratio)\n",
    "    n_val = int(n_total * val_ratio)\n",
    "\n",
    "    train_files = files[:n_train]\n",
    "    val_files = files[n_train:n_train + n_val]\n",
    "    test_files = files[n_train + n_val:]\n",
    "\n",
    "    for split_name, split_files in zip([\"train\", \"val\", \"test\"], [train_files, val_files, test_files]):\n",
    "        split_dir = base_output / split_name / class_name\n",
    "        split_dir.mkdir(parents=True, exist_ok=True)\n",
    "\n",
    "        for file in split_files:\n",
    "            src_file = src_dir / file\n",
    "            dst_file = split_dir / file\n",
    "            if not dst_file.exists():\n",
    "                shutil.copy(src_file, dst_file)\n",
    "\n",
    "    print(f\"{class_name}: {n_total} images → {n_train} train, {n_val} val, {len(test_files)} test\")\n",
    "\n",
    "split_and_copy(\"healthy\", healthy_src)\n",
    "split_and_copy(\"powdery_mildew\", mildew_src)\n"
   ]
  }
 ],
 "metadata": {
  "kernelspec": {
   "display_name": "Python 3",
   "language": "python",
   "name": "python3"
  },
  "language_info": {
   "codemirror_mode": {
    "name": "ipython",
    "version": 3
   },
   "file_extension": ".py",
   "mimetype": "text/x-python",
   "name": "python",
   "nbconvert_exporter": "python",
   "pygments_lexer": "ipython3",
   "version": "3.12.8"
  }
 },
 "nbformat": 4,
 "nbformat_minor": 5
}
